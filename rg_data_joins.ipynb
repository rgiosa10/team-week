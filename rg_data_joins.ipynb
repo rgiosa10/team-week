{
 "cells": [
  {
   "cell_type": "markdown",
   "metadata": {},
   "source": [
    "## Data Profiling, Cleaning and Transformation Notebook\n",
    "\n",
    "In this Jupyter notebook I use the below technologies:\n",
    "* Python: programming language\n",
    "* Pandas: an open source data analysis and manipulation tool built on top of the Python programming language.\n",
    "* NumPy: a package for scientific computing in Python\n",
    "* Matplotlib: a comprehensive library for creating visualizations in Python.\n",
    "\n",
    "Contents of this include profiling the `realtor_data.csv`, `cost_living.csv`, and `world_happiness_clean.csv` files and then cleaning and transforming these data sets to merge into and create a consolidated csv file, `cl_real_happiness.csv`."
   ]
  },
  {
   "cell_type": "code",
   "execution_count": null,
   "metadata": {},
   "outputs": [],
   "source": []
  },
  {
   "cell_type": "code",
   "execution_count": 2,
   "metadata": {},
   "outputs": [
    {
     "name": "stdout",
     "output_type": "stream",
     "text": [
      "Index(['status', 'price', 'bed', 'bath', 'acre_lot', 'full_address', 'street',\n",
      "       'city', 'state', 'zip_code', 'house_size', 'sold_date'],\n",
      "      dtype='object')\n",
      "<class 'pandas.core.frame.DataFrame'>\n",
      "RangeIndex: 923159 entries, 0 to 923158\n",
      "Data columns (total 12 columns):\n",
      " #   Column        Non-Null Count   Dtype  \n",
      "---  ------        --------------   -----  \n",
      " 0   status        923159 non-null  object \n",
      " 1   price         923088 non-null  float64\n",
      " 2   bed           791456 non-null  float64\n",
      " 3   bath          807967 non-null  float64\n",
      " 4   acre_lot      649536 non-null  float64\n",
      " 5   full_address  923159 non-null  object \n",
      " 6   street        921021 non-null  object \n",
      " 7   city          923085 non-null  object \n",
      " 8   state         923159 non-null  object \n",
      " 9   zip_code      922954 non-null  float64\n",
      " 10  house_size    625316 non-null  float64\n",
      " 11  sold_date     456396 non-null  object \n",
      "dtypes: float64(6), object(6)\n",
      "memory usage: 84.5+ MB\n"
     ]
    }
   ],
   "source": [
    "import pandas as pd\n",
    "import numpy as np\n",
    "\n",
    "real_data = pd.read_csv('./data/realtor-data.csv', header=0)\n",
    "\n",
    "# Profiling\n",
    "print(real_data.columns.unique()) # Column names\n",
    "real_data.info()"
   ]
  },
  {
   "cell_type": "code",
   "execution_count": 3,
   "metadata": {},
   "outputs": [
    {
     "data": {
      "text/plain": [
       "status\n",
       "for_sale          921528\n",
       "ready_to_build      1631\n",
       "Name: status, dtype: int64"
      ]
     },
     "execution_count": 3,
     "metadata": {},
     "output_type": "execute_result"
    }
   ],
   "source": [
    "# Profiling\n",
    "real_data.groupby(by='status').status.count()"
   ]
  },
  {
   "cell_type": "code",
   "execution_count": 4,
   "metadata": {},
   "outputs": [
    {
     "name": "stdout",
     "output_type": "stream",
     "text": [
      "884122.5224756469\n",
      "0.0\n",
      "875000000.0\n",
      "count    9.230880e+05\n",
      "mean     8.841225e+05\n",
      "std      2.623745e+06\n",
      "min      0.000000e+00\n",
      "25%      2.690000e+05\n",
      "50%      4.750000e+05\n",
      "75%      8.399000e+05\n",
      "max      8.750000e+08\n",
      "Name: price, dtype: float64\n"
     ]
    }
   ],
   "source": [
    "# Profiling price column\n",
    "print(real_data['price'].mean())\n",
    "print(real_data['price'].min())\n",
    "print(real_data['price'].max())\n",
    "print(real_data['price'].describe())"
   ]
  },
  {
   "cell_type": "code",
   "execution_count": 5,
   "metadata": {},
   "outputs": [
    {
     "name": "stdout",
     "output_type": "stream",
     "text": [
      "2141.644071157623\n",
      "100.0\n",
      "1450112.0\n",
      "count    6.253160e+05\n",
      "mean     2.141644e+03\n",
      "std      3.035327e+03\n",
      "min      1.000000e+02\n",
      "25%      1.130000e+03\n",
      "50%      1.651000e+03\n",
      "75%      2.499000e+03\n",
      "max      1.450112e+06\n",
      "Name: house_size, dtype: float64\n"
     ]
    }
   ],
   "source": [
    "# Profiling house_size column\n",
    "print(real_data['house_size'].mean())\n",
    "print(real_data['house_size'].min())\n",
    "print(real_data['house_size'].max())\n",
    "print(real_data['house_size'].describe())"
   ]
  },
  {
   "cell_type": "code",
   "execution_count": 6,
   "metadata": {},
   "outputs": [
    {
     "name": "stdout",
     "output_type": "stream",
     "text": [
      "2141.644071157623\n",
      "100.0\n",
      "1450112.0\n",
      "count    6.253160e+05\n",
      "mean     2.141644e+03\n",
      "std      3.035327e+03\n",
      "min      1.000000e+02\n",
      "25%      1.130000e+03\n",
      "50%      1.651000e+03\n",
      "75%      2.499000e+03\n",
      "max      1.450112e+06\n",
      "Name: house_size, dtype: float64\n"
     ]
    }
   ],
   "source": [
    "# Profiling house_size column\n",
    "print(real_data['house_size'].mean())\n",
    "print(real_data['house_size'].min())\n",
    "print(real_data['house_size'].max())\n",
    "print(real_data['house_size'].describe())"
   ]
  },
  {
   "cell_type": "code",
   "execution_count": 7,
   "metadata": {},
   "outputs": [
    {
     "name": "stdout",
     "output_type": "stream",
     "text": [
      "state\n",
      "Connecticut       4.839807e+05\n",
      "Delaware          3.452066e+05\n",
      "Georgia           4.927036e+05\n",
      "Maine             4.200100e+05\n",
      "Massachusetts     9.757505e+05\n",
      "New Hampshire     4.807679e+05\n",
      "New Jersey        6.046546e+05\n",
      "New York          1.711473e+06\n",
      "Pennsylvania      4.245694e+05\n",
      "Puerto Rico       4.371370e+05\n",
      "Rhode Island      5.002155e+05\n",
      "South Carolina    1.895000e+04\n",
      "Tennessee         3.490000e+04\n",
      "Vermont           4.572101e+05\n",
      "Virgin Islands    7.951458e+05\n",
      "Virginia          3.620645e+05\n",
      "West Virginia     6.250000e+04\n",
      "Wyoming           5.350000e+05\n",
      "Name: price, dtype: float64\n"
     ]
    }
   ],
   "source": [
    "# Profiling average price of home by state\n",
    "print(real_data.groupby(by='state').price.mean())"
   ]
  },
  {
   "cell_type": "code",
   "execution_count": 8,
   "metadata": {},
   "outputs": [
    {
     "name": "stdout",
     "output_type": "stream",
     "text": [
      "0         False\n",
      "1         False\n",
      "2         False\n",
      "3         False\n",
      "4         False\n",
      "          ...  \n",
      "923154     True\n",
      "923155     True\n",
      "923156     True\n",
      "923157     True\n",
      "923158     True\n",
      "Length: 923159, dtype: bool\n",
      "(923159, 12)\n",
      "(113789, 12)\n"
     ]
    }
   ],
   "source": [
    "print(real_data.duplicated()) # Check for duplicates\n",
    "print(real_data.shape) # Check for number of rows\n",
    "real_data.drop_duplicates(inplace=True) # remove duplicate rows\n",
    "print(real_data.shape) # Check for number of rows without duplicates"
   ]
  },
  {
   "cell_type": "code",
   "execution_count": 105,
   "metadata": {},
   "outputs": [
    {
     "name": "stdout",
     "output_type": "stream",
     "text": [
      "state\n",
      "Connecticut       7.073607e+05\n",
      "Delaware          3.776940e+05\n",
      "Georgia           5.071912e+05\n",
      "Maine             5.020344e+05\n",
      "Massachusetts     1.082850e+06\n",
      "New Hampshire     5.880774e+05\n",
      "New Jersey        5.864585e+05\n",
      "New York          2.006497e+06\n",
      "Pennsylvania      4.522881e+05\n",
      "Puerto Rico       6.337029e+05\n",
      "Rhode Island      5.820423e+05\n",
      "Vermont           5.587689e+05\n",
      "Virgin Islands    1.579529e+06\n",
      "West Virginia     6.250000e+04\n",
      "Wyoming           5.350000e+05\n",
      "Name: price, dtype: float64\n",
      "Number of NY addresses is: (19219, 13)\n"
     ]
    }
   ],
   "source": [
    "print(real_data.groupby(by='state').price.mean()) #average price by state\n",
    "print(f\"Number of NY addresses is: {real_data[real_data.state == 'New York'].shape}\") # Checking for the number of NY address"
   ]
  },
  {
   "cell_type": "code",
   "execution_count": 10,
   "metadata": {},
   "outputs": [
    {
     "name": "stdout",
     "output_type": "stream",
     "text": [
      "state\n",
      "Connecticut       13839\n",
      "Delaware           1298\n",
      "Georgia               5\n",
      "Maine              5061\n",
      "Massachusetts     10193\n",
      "New Hampshire      3561\n",
      "New Jersey        32759\n",
      "New York          28634\n",
      "Pennsylvania       9065\n",
      "Puerto Rico        2664\n",
      "Rhode Island       3419\n",
      "South Carolina        1\n",
      "Tennessee             1\n",
      "Vermont            2530\n",
      "Virgin Islands      750\n",
      "Virginia              7\n",
      "West Virginia         1\n",
      "Wyoming               1\n",
      "Name: state, dtype: int64\n",
      "['Connecticut', 'Delaware', 'Georgia', 'Maine', 'Massachusetts', 'New Hampshire', 'New Jersey', 'New York', 'Pennsylvania', 'Puerto Rico', 'Rhode Island', 'South Carolina', 'Tennessee', 'Vermont', 'Virgin Islands', 'Virginia', 'West Virginia', 'Wyoming']\n",
      "[13839, 1298, 5, 5061, 10193, 3561, 32759, 28634, 9065, 2664, 3419, 1, 1, 2530, 750, 7, 1, 1]\n"
     ]
    },
    {
     "data": {
      "image/png": "[encoded data removed]",
      "text/plain": [
       "<Figure size 640x480 with 1 Axes>"
      ]
     },
     "metadata": {},
     "output_type": "display_data"
    }
   ],
   "source": [
    "print(real_data.groupby(by='state').state.count()) # checking for the number of rows for each state\n",
    "\n",
    "# Create pie chart to better visualize the mix of addresses by state\n",
    "\n",
    "import matplotlib.pyplot as plt\n",
    "\n",
    "labels = list(real_data['state'].sort_values().unique())\n",
    "print(labels)\n",
    "\n",
    "num_address_by_state = list(real_data.groupby(by='state')['state'].count())\n",
    "print(num_address_by_state)\n",
    "\n",
    "# 'subplot' returns two values: a figure and subplots\n",
    "fig1, ax1 = plt.subplots()\n",
    "\n",
    "# we use the 2nd value from 'subplot' to make a pie chart:\n",
    "ax1.pie(num_address_by_state, labels=labels)\n",
    "\n",
    "# this just ensures that pie is drawn as a circle:\n",
    "ax1.axis('equal')  \n",
    "\n",
    "# give the chart a title\n",
    "plt.title(\"Addresses by State\")\n",
    "\n",
    "# style it:\n",
    "plt.style.use('dark_background')\n",
    "\n",
    "# show the chart:\n",
    "plt.show()"
   ]
  },
  {
   "cell_type": "code",
   "execution_count": 11,
   "metadata": {},
   "outputs": [
    {
     "name": "stdout",
     "output_type": "stream",
     "text": [
      "(113789, 4)\n",
      "(77341, 4)\n",
      "            price  house_size  price_per_sq_ft  price_per_sq_meter\n",
      "0        105000.0       920.0       114.130435         1228.490305\n",
      "1         80000.0      1527.0        52.390308          563.924823\n",
      "2         67000.0       748.0        89.572193          964.147471\n",
      "3        145000.0      1800.0        80.555556          867.093157\n",
      "5        179000.0      2520.0        71.031746          764.579680\n",
      "...           ...         ...              ...                 ...\n",
      "923135  1649000.0      2178.0       757.116621         8149.538990\n",
      "923136   779000.0      1816.0       428.964758         4617.340212\n",
      "923144  1595000.0      2231.0       714.926042         7695.403185\n",
      "923146  4595000.0      4863.0       944.889986        10170.715538\n",
      "923147  2995000.0      3446.0       869.123622         9355.172832\n",
      "\n",
      "[77341 rows x 4 columns]\n"
     ]
    }
   ],
   "source": [
    "# Add columns to data set that converts price per square ft and square meters\n",
    "\n",
    "# function that gets a row as input, then gets the value from price and house_size columns to calc price per sq ft\n",
    "def price_per_sqft_convert(row):\n",
    "    price_per_sqft = row.price / row.house_size\n",
    "    return price_per_sqft\n",
    "\n",
    "# function that gets a row as input, then gets the value from price per sq ft and converts to price per sq meters\n",
    "def sqft_to_meters_convert(row):\n",
    "    sq_ft = row.house_size\n",
    "    sq_meters = sq_ft * 0.092903\n",
    "    \n",
    "    price_per_sq_meters = row.price / sq_meters\n",
    "    return price_per_sq_meters\n",
    "\n",
    "real_data['price_per_sq_ft'] = real_data.apply(price_per_sqft_convert, axis=1)\n",
    "real_data['price_per_sq_meter'] = real_data.apply(sqft_to_meters_convert, axis=1)\n",
    "\n",
    "print(real_data[['price', 'house_size', 'price_per_sq_ft', 'price_per_sq_meter']].shape)\n",
    "\n",
    "# Remove the NaN by converting string 'NaN' to NaN: \n",
    "def Nan_check(value):\n",
    "    if value == 'NaN':\n",
    "        value = np.nan\n",
    "        return value\n",
    "    else:\n",
    "        return value\n",
    "\n",
    "real_data.house_size = real_data.house_size.map(Nan_check)\n",
    "real_data.price_per_sq_ft = real_data.price_per_sq_ft.map(Nan_check)\n",
    "real_data.price_per_sq_meter = real_data.price_per_sq_meter.map(Nan_check)\n",
    "\n",
    "real_data.dropna(subset=['house_size'], inplace=True) # drop NaN for house size\n",
    "\n",
    "print(real_data[['price', 'house_size', 'price_per_sq_ft', 'price_per_sq_meter']].shape) # check to see number of rows removed from dropna()\n",
    "print(real_data[['price', 'house_size', 'price_per_sq_ft', 'price_per_sq_meter']])"
   ]
  },
  {
   "cell_type": "code",
   "execution_count": 12,
   "metadata": {},
   "outputs": [
    {
     "name": "stdout",
     "output_type": "stream",
     "text": [
      "            price  house_size  price_per_sq_ft  price_per_sq_meter\n",
      "0        105000.0       920.0           114.13             1228.49\n",
      "1         80000.0      1527.0            52.39              563.92\n",
      "2         67000.0       748.0            89.57              964.15\n",
      "3        145000.0      1800.0            80.56              867.09\n",
      "5        179000.0      2520.0            71.03              764.58\n",
      "...           ...         ...              ...                 ...\n",
      "923135  1649000.0      2178.0           757.12             8149.54\n",
      "923136   779000.0      1816.0           428.96             4617.34\n",
      "923144  1595000.0      2231.0           714.93             7695.40\n",
      "923146  4595000.0      4863.0           944.89            10170.72\n",
      "923147  2995000.0      3446.0           869.12             9355.17\n",
      "\n",
      "[77341 rows x 4 columns]\n"
     ]
    }
   ],
   "source": [
    "# Rounding the prices per sq ft/meters to two decimal places\n",
    "\n",
    "real_data.price_per_sq_ft = real_data.price_per_sq_ft.map(lambda v: round(float(v), 2))\n",
    "real_data.price_per_sq_meter = real_data.price_per_sq_meter.map(lambda v: round(float(v), 2))\n",
    "\n",
    "print(real_data[['price', 'house_size', 'price_per_sq_ft', 'price_per_sq_meter']])"
   ]
  },
  {
   "cell_type": "code",
   "execution_count": 13,
   "metadata": {},
   "outputs": [
    {
     "name": "stdout",
     "output_type": "stream",
     "text": [
      "Index(['price', 'bed', 'bath', 'acre_lot', 'full_address', 'street', 'city',\n",
      "       'state', 'zip_code', 'house_size', 'price_per_sq_ft',\n",
      "       'price_per_sq_meter'],\n",
      "      dtype='object')\n"
     ]
    }
   ],
   "source": [
    "# Drop the 'for_sale' and 'sold_date' columns as will not be needed\n",
    "\n",
    "real_data.drop(['status', 'sold_date'], axis=1, inplace=True)\n",
    "\n",
    "print(real_data.columns.unique())"
   ]
  },
  {
   "cell_type": "code",
   "execution_count": 14,
   "metadata": {},
   "outputs": [],
   "source": [
    "# export the cleaned up dataset to csv\n",
    "real_data.to_csv('./data/clean_realtor_data.csv', index=False)"
   ]
  },
  {
   "cell_type": "code",
   "execution_count": 15,
   "metadata": {},
   "outputs": [
    {
     "name": "stdout",
     "output_type": "stream",
     "text": [
      "                  city        country  price_per_sq_meter\n",
      "0                Abbot  United States         1877.075000\n",
      "1             Aberdeen  United States         2918.241579\n",
      "2             Abington  United States         2885.208519\n",
      "3              Absecon  United States         1683.338222\n",
      "4               Accord  United States         3570.840000\n",
      "...                ...            ...                 ...\n",
      "2341            Yeadon  United States         1539.942857\n",
      "2342           Yonkers  United States         3038.872885\n",
      "2343              York  United States         4409.410345\n",
      "2344  Yorktown Heights  United States         3699.293529\n",
      "2345             Yulan  United States         2145.080000\n",
      "\n",
      "[2346 rows x 3 columns]\n",
      "(5079, 3)\n"
     ]
    },
    {
     "name": "stderr",
     "output_type": "stream",
     "text": [
      "/Users/Ruben/Desktop/team-week/venv/lib/python3.7/site-packages/pandas/core/frame.py:5047: SettingWithCopyWarning: \n",
      "A value is trying to be set on a copy of a slice from a DataFrame\n",
      "\n",
      "See the caveats in the documentation: https://pandas.pydata.org/pandas-docs/stable/user_guide/indexing.html#returning-a-view-versus-a-copy\n",
      "  errors=errors,\n"
     ]
    }
   ],
   "source": [
    "\n",
    "# Import the data sets and merge cost of living with realtor data\n",
    "\n",
    "real_data = pd.read_csv('./data/clean_realtor_data.csv', header=0) \n",
    "cost_living = pd.read_csv('./data/cost_living.csv', header=0)\n",
    "\n",
    "# Cleaning and Transforming Cost of Living data\n",
    "# Remove the NaN by converting string 'NaN' to NaN: \n",
    "def Nan_check(value):\n",
    "    if value == 'NaN':\n",
    "        value = np.nan\n",
    "        return value\n",
    "    else:\n",
    "        return value\n",
    "\n",
    "cost_living['Price per Square Meter to Buy Apartment in City Centre (USD)'] = cost_living['Price per Square Meter to Buy Apartment in City Centre (USD)'].map(Nan_check)\n",
    "\n",
    "cost_living.dropna(subset=['Price per Square Meter to Buy Apartment in City Centre (USD)'], inplace=True) # drop NaN for house size\n",
    "\n",
    "# Identify that only city, country and price per sq meter are only needed, so create new dataframe:\n",
    "cost_living_city_country_price = cost_living[['city', 'country', 'Price per Square Meter to Buy Apartment in City Centre (USD)']]\n",
    "# Rename to price per sq meter\n",
    "cost_living_city_country_price.rename(columns={'Price per Square Meter to Buy Apartment in City Centre (USD)':'price_per_sq_meter'}, inplace=True)\n",
    "#print(cost_living_city_country_price.head())\n",
    "\n",
    "\n",
    "# Cleaning and Transforming Realtor data\n",
    "# Add country column in prep to link with other data sets that have country level data\n",
    "real_data['country'] = 'United States'\n",
    "\n",
    "# Get average price per sq meter at city level and create new dataframe:\n",
    "realtor_city_country_price = real_data.groupby(by=['city','country']).price_per_sq_meter.mean()\n",
    "realtor_city_country_price = realtor_city_country_price.reset_index()\n",
    "\n",
    "print(realtor_city_country_price)\n",
    "\n",
    "# Consolidate the realtor data with the cost of living data\n",
    "cost_living_realtor_left = pd.concat([cost_living_city_country_price, realtor_city_country_price], axis=0)\n",
    "\n",
    "# Remove any duplicate rows\n",
    "cost_living_realtor_left.drop_duplicates(inplace=True)\n",
    "print(cost_living_realtor_left.shape)\n",
    "\n",
    "cost_living_realtor_left.to_csv('./data/cost_living_with_realtor.csv', index=False)"
   ]
  },
  {
   "cell_type": "code",
   "execution_count": 103,
   "metadata": {},
   "outputs": [
    {
     "name": "stdout",
     "output_type": "stream",
     "text": [
      "(5079, 3)\n",
      "(153, 8)\n",
      "     city                   country  price_per_sq_meter  Ladder score  \\\n",
      "5090  NaN          Congo (Kinshasa)                 NaN          4.31   \n",
      "5091  NaN                   Myanmar                 NaN          4.31   \n",
      "5092  NaN                   Comoros                 NaN          4.29   \n",
      "5093  NaN                   Lesotho                 NaN          3.65   \n",
      "5094  NaN  Central African Republic                 NaN          3.48   \n",
      "\n",
      "      Logged GDP per capita  Social support  Healthy life expectancy  \\\n",
      "5090                   6.69            0.67                    52.90   \n",
      "5091                   8.68            0.78                    58.96   \n",
      "5092                   7.83            0.63                    57.35   \n",
      "5093                   7.96            0.78                    48.00   \n",
      "5094                   6.63            0.32                    45.20   \n",
      "\n",
      "      Freedom to make life choices  Generosity  Perceptions of corruption  \n",
      "5090                          0.70        0.08                       0.81  \n",
      "5091                          0.90        0.56                       0.65  \n",
      "5092                          0.55        0.09                       0.78  \n",
      "5093                          0.74       -0.15                       0.86  \n",
      "5094                          0.64        0.08                       0.89  \n",
      "(5095, 10)\n"
     ]
    }
   ],
   "source": [
    "\n",
    "# Profile and join the cl_real and happiness files\n",
    "import pandas as pd\n",
    "import numpy as np\n",
    "\n",
    "cl_real = pd.read_csv('./data/cost_living_with_realtor.csv', header=0)\n",
    "happiness = pd.read_csv('./data/world_happiness_clean.csv', header=0)\n",
    "\n",
    "print(cl_real.shape)\n",
    "print(happiness.shape)\n",
    "\n",
    "# Rename the Country name column in happiness data in prep for the merge \n",
    "happiness.columns = happiness.columns.str.replace('Country name', 'country')\n",
    "\n",
    "# Merge as an outert to get all data sets at country\n",
    "cl_real_happiness = pd.merge(cl_real, happiness, how='outer', on='country')\n",
    "print(cl_real_happiness.tail())\n",
    "\n",
    "# Rename the columns to call out if data is at city or country level\n",
    "cl_real_happiness.rename(columns=lambda v: v + ' (country)', inplace = True)\n",
    "cl_real_happiness.rename(columns={'city (country)': \"city\", 'country (country)': \"country\", 'price_per_sq_meter (country)': \"price_per_sq_meter (city)\"}, inplace = True)\n",
    "print(cl_real_happiness.shape)\n",
    "\n",
    "# Export the cleaned up data to csv\n",
    "cl_real_happiness.to_csv('./data/cl_real_happiness.csv', index=False)"
   ]
  }
 ],
 "metadata": {
  "kernelspec": {
   "display_name": "Python 3.7.15 ('venv': venv)",
   "language": "python",
   "name": "python3"
  },
  "language_info": {
   "codemirror_mode": {
    "name": "ipython",
    "version": 3
   },
   "file_extension": ".py",
   "mimetype": "text/x-python",
   "name": "python",
   "nbconvert_exporter": "python",
   "pygments_lexer": "ipython3",
   "version": "3.7.15"
  },
  "orig_nbformat": 4,
  "vscode": {
   "interpreter": {
    "hash": "260a081c309bf195ae6a3ef60e3656c475c4df2342745d13801e9540343ebbcf"
   }
  }
 },
 "nbformat": 4,
 "nbformat_minor": 2
}
